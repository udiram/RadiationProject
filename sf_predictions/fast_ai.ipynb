{
 "cells": [
  {
   "cell_type": "code",
   "execution_count": 4,
   "outputs": [],
   "source": [
    "import nvsmi\n",
    "from fastai.tabular.all import *\n",
    "import pandas as pd"
   ],
   "metadata": {
    "collapsed": false,
    "pycharm": {
     "name": "#%%\n"
    }
   }
  },
  {
   "cell_type": "code",
   "execution_count": 5,
   "outputs": [
    {
     "data": {
      "text/plain": "[pid: 15648 | gpu_id: 0 | gpu_uuid: GPU-214040b2-85f5-0241-5a6a-efd5171b81ee | gpu_name: NVIDIA GeForce RTX 3080 Ti Laptop GPU | used_memory:     nanMB,\n pid: 16632 | gpu_id: 0 | gpu_uuid: GPU-214040b2-85f5-0241-5a6a-efd5171b81ee | gpu_name: NVIDIA GeForce RTX 3080 Ti Laptop GPU | used_memory:     nanMB,\n pid: 19120 | gpu_id: 0 | gpu_uuid: GPU-214040b2-85f5-0241-5a6a-efd5171b81ee | gpu_name: NVIDIA GeForce RTX 3080 Ti Laptop GPU | used_memory:     nanMB,\n pid: 3064 | gpu_id: 0 | gpu_uuid: GPU-214040b2-85f5-0241-5a6a-efd5171b81ee | gpu_name: NVIDIA GeForce RTX 3080 Ti Laptop GPU | used_memory:     nanMB,\n pid: 1992 | gpu_id: 0 | gpu_uuid: GPU-214040b2-85f5-0241-5a6a-efd5171b81ee | gpu_name: NVIDIA GeForce RTX 3080 Ti Laptop GPU | used_memory:     nanMB,\n pid: 14552 | gpu_id: 0 | gpu_uuid: GPU-214040b2-85f5-0241-5a6a-efd5171b81ee | gpu_name: NVIDIA GeForce RTX 3080 Ti Laptop GPU | used_memory:     nanMB,\n pid: 15712 | gpu_id: 0 | gpu_uuid: GPU-214040b2-85f5-0241-5a6a-efd5171b81ee | gpu_name: NVIDIA GeForce RTX 3080 Ti Laptop GPU | used_memory:     nanMB]"
     },
     "execution_count": 5,
     "metadata": {},
     "output_type": "execute_result"
    }
   ],
   "source": [
    "nvsmi.get_gpus()\n",
    "nvsmi.get_available_gpus()\n",
    "nvsmi.get_gpu_processes()"
   ],
   "metadata": {
    "collapsed": false,
    "pycharm": {
     "name": "#%%\n"
    }
   }
  },
  {
   "cell_type": "code",
   "execution_count": 8,
   "outputs": [
    {
     "data": {
      "text/plain": "    cell_line      7105      8813     57147     55732      2268      3075  \\\n0  NCIH1568-2  5.626439  6.855242  2.185867  4.079805  0.084064  0.176323   \n1  NCIH1568-3  5.626439  6.855242  2.185867  4.079805  0.084064  0.176323   \n2  NCIH1568-4  5.626439  6.855242  2.185867  4.079805  0.084064  0.176323   \n3  NCIH1568-5  5.626439  6.855242  2.185867  4.079805  0.084064  0.176323   \n4  NCIH1568-6  5.626439  6.855242  2.185867  4.079805  0.084064  0.176323   \n\n       2519      2729      4800  ...      8359     8336     84311    126661  \\\n0  6.824513  4.956521  3.766595  ...  0.555816  0.62293  5.373996  1.956057   \n1  6.824513  4.956521  3.766595  ...  0.555816  0.62293  5.373996  1.956057   \n2  6.824513  4.956521  3.766595  ...  0.555816  0.62293  5.373996  1.956057   \n3  6.824513  4.956521  3.766595  ...  0.555816  0.62293  5.373996  1.956057   \n4  6.824513  4.956521  3.766595  ...  0.555816  0.62293  5.373996  1.956057   \n\n      79447    283521     29122      9997    388963      6905  \n0  5.482203  0.422233  0.176323  0.918386  1.778209  4.050502  \n1  5.482203  0.422233  0.176323  0.918386  1.778209  4.050502  \n2  5.482203  0.422233  0.176323  0.918386  1.778209  4.050502  \n3  5.482203  0.422233  0.176323  0.918386  1.778209  4.050502  \n4  5.482203  0.422233  0.176323  0.918386  1.778209  4.050502  \n\n[5 rows x 15140 columns]",
      "text/html": "<div>\n<style scoped>\n    .dataframe tbody tr th:only-of-type {\n        vertical-align: middle;\n    }\n\n    .dataframe tbody tr th {\n        vertical-align: top;\n    }\n\n    .dataframe thead th {\n        text-align: right;\n    }\n</style>\n<table border=\"1\" class=\"dataframe\">\n  <thead>\n    <tr style=\"text-align: right;\">\n      <th></th>\n      <th>cell_line</th>\n      <th>7105</th>\n      <th>8813</th>\n      <th>57147</th>\n      <th>55732</th>\n      <th>2268</th>\n      <th>3075</th>\n      <th>2519</th>\n      <th>2729</th>\n      <th>4800</th>\n      <th>...</th>\n      <th>8359</th>\n      <th>8336</th>\n      <th>84311</th>\n      <th>126661</th>\n      <th>79447</th>\n      <th>283521</th>\n      <th>29122</th>\n      <th>9997</th>\n      <th>388963</th>\n      <th>6905</th>\n    </tr>\n  </thead>\n  <tbody>\n    <tr>\n      <th>0</th>\n      <td>NCIH1568-2</td>\n      <td>5.626439</td>\n      <td>6.855242</td>\n      <td>2.185867</td>\n      <td>4.079805</td>\n      <td>0.084064</td>\n      <td>0.176323</td>\n      <td>6.824513</td>\n      <td>4.956521</td>\n      <td>3.766595</td>\n      <td>...</td>\n      <td>0.555816</td>\n      <td>0.62293</td>\n      <td>5.373996</td>\n      <td>1.956057</td>\n      <td>5.482203</td>\n      <td>0.422233</td>\n      <td>0.176323</td>\n      <td>0.918386</td>\n      <td>1.778209</td>\n      <td>4.050502</td>\n    </tr>\n    <tr>\n      <th>1</th>\n      <td>NCIH1568-3</td>\n      <td>5.626439</td>\n      <td>6.855242</td>\n      <td>2.185867</td>\n      <td>4.079805</td>\n      <td>0.084064</td>\n      <td>0.176323</td>\n      <td>6.824513</td>\n      <td>4.956521</td>\n      <td>3.766595</td>\n      <td>...</td>\n      <td>0.555816</td>\n      <td>0.62293</td>\n      <td>5.373996</td>\n      <td>1.956057</td>\n      <td>5.482203</td>\n      <td>0.422233</td>\n      <td>0.176323</td>\n      <td>0.918386</td>\n      <td>1.778209</td>\n      <td>4.050502</td>\n    </tr>\n    <tr>\n      <th>2</th>\n      <td>NCIH1568-4</td>\n      <td>5.626439</td>\n      <td>6.855242</td>\n      <td>2.185867</td>\n      <td>4.079805</td>\n      <td>0.084064</td>\n      <td>0.176323</td>\n      <td>6.824513</td>\n      <td>4.956521</td>\n      <td>3.766595</td>\n      <td>...</td>\n      <td>0.555816</td>\n      <td>0.62293</td>\n      <td>5.373996</td>\n      <td>1.956057</td>\n      <td>5.482203</td>\n      <td>0.422233</td>\n      <td>0.176323</td>\n      <td>0.918386</td>\n      <td>1.778209</td>\n      <td>4.050502</td>\n    </tr>\n    <tr>\n      <th>3</th>\n      <td>NCIH1568-5</td>\n      <td>5.626439</td>\n      <td>6.855242</td>\n      <td>2.185867</td>\n      <td>4.079805</td>\n      <td>0.084064</td>\n      <td>0.176323</td>\n      <td>6.824513</td>\n      <td>4.956521</td>\n      <td>3.766595</td>\n      <td>...</td>\n      <td>0.555816</td>\n      <td>0.62293</td>\n      <td>5.373996</td>\n      <td>1.956057</td>\n      <td>5.482203</td>\n      <td>0.422233</td>\n      <td>0.176323</td>\n      <td>0.918386</td>\n      <td>1.778209</td>\n      <td>4.050502</td>\n    </tr>\n    <tr>\n      <th>4</th>\n      <td>NCIH1568-6</td>\n      <td>5.626439</td>\n      <td>6.855242</td>\n      <td>2.185867</td>\n      <td>4.079805</td>\n      <td>0.084064</td>\n      <td>0.176323</td>\n      <td>6.824513</td>\n      <td>4.956521</td>\n      <td>3.766595</td>\n      <td>...</td>\n      <td>0.555816</td>\n      <td>0.62293</td>\n      <td>5.373996</td>\n      <td>1.956057</td>\n      <td>5.482203</td>\n      <td>0.422233</td>\n      <td>0.176323</td>\n      <td>0.918386</td>\n      <td>1.778209</td>\n      <td>4.050502</td>\n    </tr>\n  </tbody>\n</table>\n<p>5 rows × 15140 columns</p>\n</div>"
     },
     "execution_count": 8,
     "metadata": {},
     "output_type": "execute_result"
    }
   ],
   "source": [
    "train_df = pd.read_csv(\"data/x_train_234568.csv\")\n",
    "train_df.head()"
   ],
   "metadata": {
    "collapsed": false,
    "pycharm": {
     "name": "#%%\n"
    }
   }
  },
  {
   "cell_type": "code",
   "execution_count": null,
   "outputs": [],
   "source": [],
   "metadata": {
    "collapsed": false,
    "pycharm": {
     "name": "#%%\n"
    }
   }
  }
 ],
 "metadata": {
  "kernelspec": {
   "display_name": "Python 3",
   "language": "python",
   "name": "python3"
  },
  "language_info": {
   "codemirror_mode": {
    "name": "ipython",
    "version": 2
   },
   "file_extension": ".py",
   "mimetype": "text/x-python",
   "name": "python",
   "nbconvert_exporter": "python",
   "pygments_lexer": "ipython2",
   "version": "2.7.6"
  }
 },
 "nbformat": 4,
 "nbformat_minor": 0
}