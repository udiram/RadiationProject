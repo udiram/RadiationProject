{
 "cells": [
  {
   "cell_type": "code",
   "execution_count": 93,
   "outputs": [],
   "source": [
    "import math\n",
    "import numpy as np\n",
    "import pandas as pd\n",
    "from collections import Counter\n",
    "from PyImpetus import PPIMBR\n",
    "from sklearn.svm import LinearSVR, SVR\n",
    "from sklearn.tree import DecisionTreeRegressor\n",
    "import sklearn\n",
    "from sklearn.linear_model import Ridge\n",
    "from lightgbm import LGBMRegressor\n",
    "from sklearn.metrics import accuracy_score, mean_squared_error\n",
    "from sklearn.model_selection import KFold, StratifiedKFold, train_test_split\n",
    "from sklearn.preprocessing import StandardScaler, OneHotEncoder\n",
    "import time"
   ],
   "metadata": {
    "collapsed": false,
    "pycharm": {
     "name": "#%%\n"
    }
   }
  },
  {
   "cell_type": "code",
   "execution_count": 94,
   "outputs": [
    {
     "data": {
      "text/plain": "                7105      8813     57147     55732      2268      3075  \\\ncell_line                                                                \nNCIH1568-2  5.626439  6.855242  2.185867  4.079805  0.084064  0.176323   \nSCC9-2      3.964399  5.718088  2.260026  3.451541  0.084064  0.782409   \nHCC1428-2   4.002703  5.870365  3.621759  3.861955  0.014355  0.485427   \nU2OS-2      5.098453  6.543496  2.117695  4.115200  0.014355  0.432959   \nLU99-2      3.665620  6.716717  2.100978  4.176323  0.000000  1.263034   \n\n                2519      2729      4800     90529  ...      8336     84311  \\\ncell_line                                           ...                       \nNCIH1568-2  6.824513  4.956521  3.766595  2.298658  ...  0.622930  5.373996   \nSCC9-2      6.039796  5.778734  4.903038  2.711495  ...  1.536053  5.042207   \nHCC1428-2   4.614121  5.286881  4.429616  3.442280  ...  3.033863  4.539159   \nU2OS-2      5.684258  4.847997  5.108524  2.189034  ...  0.176323  5.028569   \nLU99-2      6.124948  4.395063  5.070389  2.669027  ...  1.321928  6.613679   \n\n              126661     79447    283521     29122      9997    388963  \\\ncell_line                                                                \nNCIH1568-2  1.956057  5.482203  0.422233  0.176323  0.918386  1.778209   \nSCC9-2      2.344828  3.937344  0.000000  0.042644  2.475085  1.176323   \nHCC1428-2   1.970854  5.895303  0.622930  0.014355  0.918386  2.244887   \nU2OS-2      2.967169  4.995937  0.111031  0.042644  2.010780  1.925999   \nLU99-2      1.438293  4.349082  0.000000  0.111031  1.111031  1.632268   \n\n                6905        SF  \ncell_line                       \nNCIH1568-2  4.050502  0.607940  \nSCC9-2      4.174726  0.573035  \nHCC1428-2   5.555816  0.450188  \nU2OS-2      4.635754  0.526517  \nLU99-2      5.197315  0.625161  \n\n[5 rows x 15140 columns]",
      "text/html": "<div>\n<style scoped>\n    .dataframe tbody tr th:only-of-type {\n        vertical-align: middle;\n    }\n\n    .dataframe tbody tr th {\n        vertical-align: top;\n    }\n\n    .dataframe thead th {\n        text-align: right;\n    }\n</style>\n<table border=\"1\" class=\"dataframe\">\n  <thead>\n    <tr style=\"text-align: right;\">\n      <th></th>\n      <th>7105</th>\n      <th>8813</th>\n      <th>57147</th>\n      <th>55732</th>\n      <th>2268</th>\n      <th>3075</th>\n      <th>2519</th>\n      <th>2729</th>\n      <th>4800</th>\n      <th>90529</th>\n      <th>...</th>\n      <th>8336</th>\n      <th>84311</th>\n      <th>126661</th>\n      <th>79447</th>\n      <th>283521</th>\n      <th>29122</th>\n      <th>9997</th>\n      <th>388963</th>\n      <th>6905</th>\n      <th>SF</th>\n    </tr>\n    <tr>\n      <th>cell_line</th>\n      <th></th>\n      <th></th>\n      <th></th>\n      <th></th>\n      <th></th>\n      <th></th>\n      <th></th>\n      <th></th>\n      <th></th>\n      <th></th>\n      <th></th>\n      <th></th>\n      <th></th>\n      <th></th>\n      <th></th>\n      <th></th>\n      <th></th>\n      <th></th>\n      <th></th>\n      <th></th>\n      <th></th>\n    </tr>\n  </thead>\n  <tbody>\n    <tr>\n      <th>NCIH1568-2</th>\n      <td>5.626439</td>\n      <td>6.855242</td>\n      <td>2.185867</td>\n      <td>4.079805</td>\n      <td>0.084064</td>\n      <td>0.176323</td>\n      <td>6.824513</td>\n      <td>4.956521</td>\n      <td>3.766595</td>\n      <td>2.298658</td>\n      <td>...</td>\n      <td>0.622930</td>\n      <td>5.373996</td>\n      <td>1.956057</td>\n      <td>5.482203</td>\n      <td>0.422233</td>\n      <td>0.176323</td>\n      <td>0.918386</td>\n      <td>1.778209</td>\n      <td>4.050502</td>\n      <td>0.607940</td>\n    </tr>\n    <tr>\n      <th>SCC9-2</th>\n      <td>3.964399</td>\n      <td>5.718088</td>\n      <td>2.260026</td>\n      <td>3.451541</td>\n      <td>0.084064</td>\n      <td>0.782409</td>\n      <td>6.039796</td>\n      <td>5.778734</td>\n      <td>4.903038</td>\n      <td>2.711495</td>\n      <td>...</td>\n      <td>1.536053</td>\n      <td>5.042207</td>\n      <td>2.344828</td>\n      <td>3.937344</td>\n      <td>0.000000</td>\n      <td>0.042644</td>\n      <td>2.475085</td>\n      <td>1.176323</td>\n      <td>4.174726</td>\n      <td>0.573035</td>\n    </tr>\n    <tr>\n      <th>HCC1428-2</th>\n      <td>4.002703</td>\n      <td>5.870365</td>\n      <td>3.621759</td>\n      <td>3.861955</td>\n      <td>0.014355</td>\n      <td>0.485427</td>\n      <td>4.614121</td>\n      <td>5.286881</td>\n      <td>4.429616</td>\n      <td>3.442280</td>\n      <td>...</td>\n      <td>3.033863</td>\n      <td>4.539159</td>\n      <td>1.970854</td>\n      <td>5.895303</td>\n      <td>0.622930</td>\n      <td>0.014355</td>\n      <td>0.918386</td>\n      <td>2.244887</td>\n      <td>5.555816</td>\n      <td>0.450188</td>\n    </tr>\n    <tr>\n      <th>U2OS-2</th>\n      <td>5.098453</td>\n      <td>6.543496</td>\n      <td>2.117695</td>\n      <td>4.115200</td>\n      <td>0.014355</td>\n      <td>0.432959</td>\n      <td>5.684258</td>\n      <td>4.847997</td>\n      <td>5.108524</td>\n      <td>2.189034</td>\n      <td>...</td>\n      <td>0.176323</td>\n      <td>5.028569</td>\n      <td>2.967169</td>\n      <td>4.995937</td>\n      <td>0.111031</td>\n      <td>0.042644</td>\n      <td>2.010780</td>\n      <td>1.925999</td>\n      <td>4.635754</td>\n      <td>0.526517</td>\n    </tr>\n    <tr>\n      <th>LU99-2</th>\n      <td>3.665620</td>\n      <td>6.716717</td>\n      <td>2.100978</td>\n      <td>4.176323</td>\n      <td>0.000000</td>\n      <td>1.263034</td>\n      <td>6.124948</td>\n      <td>4.395063</td>\n      <td>5.070389</td>\n      <td>2.669027</td>\n      <td>...</td>\n      <td>1.321928</td>\n      <td>6.613679</td>\n      <td>1.438293</td>\n      <td>4.349082</td>\n      <td>0.000000</td>\n      <td>0.111031</td>\n      <td>1.111031</td>\n      <td>1.632268</td>\n      <td>5.197315</td>\n      <td>0.625161</td>\n    </tr>\n  </tbody>\n</table>\n<p>5 rows × 15140 columns</p>\n</div>"
     },
     "execution_count": 94,
     "metadata": {},
     "output_type": "execute_result"
    }
   ],
   "source": [
    "df = pd.read_csv('data/only2_big_with_sf.csv')\n",
    "# df = df.transpose()\n",
    "df.set_index('cell_line', inplace=True)\n",
    "# df = df.transpose()\n",
    "df.head()"
   ],
   "metadata": {
    "collapsed": false,
    "pycharm": {
     "name": "#%%\n"
    }
   }
  },
  {
   "cell_type": "code",
   "execution_count": 95,
   "outputs": [
    {
     "data": {
      "text/plain": "                7105      8813     57147     55732      2268      3075  \\\ncell_line                                                                \nNCIH1568-2  5.626439  6.855242  2.185867  4.079805  0.084064  0.176323   \nSCC9-2      3.964399  5.718088  2.260026  3.451541  0.084064  0.782409   \nHCC1428-2   4.002703  5.870365  3.621759  3.861955  0.014355  0.485427   \nU2OS-2      5.098453  6.543496  2.117695  4.115200  0.014355  0.432959   \nLU99-2      3.665620  6.716717  2.100978  4.176323  0.000000  1.263034   \n\n                2519      2729      4800     90529  ...      8336     84311  \\\ncell_line                                           ...                       \nNCIH1568-2  6.824513  4.956521  3.766595  2.298658  ...  0.622930  5.373996   \nSCC9-2      6.039796  5.778734  4.903038  2.711495  ...  1.536053  5.042207   \nHCC1428-2   4.614121  5.286881  4.429616  3.442280  ...  3.033863  4.539159   \nU2OS-2      5.684258  4.847997  5.108524  2.189034  ...  0.176323  5.028569   \nLU99-2      6.124948  4.395063  5.070389  2.669027  ...  1.321928  6.613679   \n\n              126661     79447    283521     29122      9997    388963  \\\ncell_line                                                                \nNCIH1568-2  1.956057  5.482203  0.422233  0.176323  0.918386  1.778209   \nSCC9-2      2.344828  3.937344  0.000000  0.042644  2.475085  1.176323   \nHCC1428-2   1.970854  5.895303  0.622930  0.014355  0.918386  2.244887   \nU2OS-2      2.967169  4.995937  0.111031  0.042644  2.010780  1.925999   \nLU99-2      1.438293  4.349082  0.000000  0.111031  1.111031  1.632268   \n\n                6905        SF  \ncell_line                       \nNCIH1568-2  4.050502  0.607940  \nSCC9-2      4.174726  0.573035  \nHCC1428-2   5.555816  0.450188  \nU2OS-2      4.635754  0.526517  \nLU99-2      5.197315  0.625161  \n\n[5 rows x 15140 columns]",
      "text/html": "<div>\n<style scoped>\n    .dataframe tbody tr th:only-of-type {\n        vertical-align: middle;\n    }\n\n    .dataframe tbody tr th {\n        vertical-align: top;\n    }\n\n    .dataframe thead th {\n        text-align: right;\n    }\n</style>\n<table border=\"1\" class=\"dataframe\">\n  <thead>\n    <tr style=\"text-align: right;\">\n      <th></th>\n      <th>7105</th>\n      <th>8813</th>\n      <th>57147</th>\n      <th>55732</th>\n      <th>2268</th>\n      <th>3075</th>\n      <th>2519</th>\n      <th>2729</th>\n      <th>4800</th>\n      <th>90529</th>\n      <th>...</th>\n      <th>8336</th>\n      <th>84311</th>\n      <th>126661</th>\n      <th>79447</th>\n      <th>283521</th>\n      <th>29122</th>\n      <th>9997</th>\n      <th>388963</th>\n      <th>6905</th>\n      <th>SF</th>\n    </tr>\n    <tr>\n      <th>cell_line</th>\n      <th></th>\n      <th></th>\n      <th></th>\n      <th></th>\n      <th></th>\n      <th></th>\n      <th></th>\n      <th></th>\n      <th></th>\n      <th></th>\n      <th></th>\n      <th></th>\n      <th></th>\n      <th></th>\n      <th></th>\n      <th></th>\n      <th></th>\n      <th></th>\n      <th></th>\n      <th></th>\n      <th></th>\n    </tr>\n  </thead>\n  <tbody>\n    <tr>\n      <th>NCIH1568-2</th>\n      <td>5.626439</td>\n      <td>6.855242</td>\n      <td>2.185867</td>\n      <td>4.079805</td>\n      <td>0.084064</td>\n      <td>0.176323</td>\n      <td>6.824513</td>\n      <td>4.956521</td>\n      <td>3.766595</td>\n      <td>2.298658</td>\n      <td>...</td>\n      <td>0.622930</td>\n      <td>5.373996</td>\n      <td>1.956057</td>\n      <td>5.482203</td>\n      <td>0.422233</td>\n      <td>0.176323</td>\n      <td>0.918386</td>\n      <td>1.778209</td>\n      <td>4.050502</td>\n      <td>0.607940</td>\n    </tr>\n    <tr>\n      <th>SCC9-2</th>\n      <td>3.964399</td>\n      <td>5.718088</td>\n      <td>2.260026</td>\n      <td>3.451541</td>\n      <td>0.084064</td>\n      <td>0.782409</td>\n      <td>6.039796</td>\n      <td>5.778734</td>\n      <td>4.903038</td>\n      <td>2.711495</td>\n      <td>...</td>\n      <td>1.536053</td>\n      <td>5.042207</td>\n      <td>2.344828</td>\n      <td>3.937344</td>\n      <td>0.000000</td>\n      <td>0.042644</td>\n      <td>2.475085</td>\n      <td>1.176323</td>\n      <td>4.174726</td>\n      <td>0.573035</td>\n    </tr>\n    <tr>\n      <th>HCC1428-2</th>\n      <td>4.002703</td>\n      <td>5.870365</td>\n      <td>3.621759</td>\n      <td>3.861955</td>\n      <td>0.014355</td>\n      <td>0.485427</td>\n      <td>4.614121</td>\n      <td>5.286881</td>\n      <td>4.429616</td>\n      <td>3.442280</td>\n      <td>...</td>\n      <td>3.033863</td>\n      <td>4.539159</td>\n      <td>1.970854</td>\n      <td>5.895303</td>\n      <td>0.622930</td>\n      <td>0.014355</td>\n      <td>0.918386</td>\n      <td>2.244887</td>\n      <td>5.555816</td>\n      <td>0.450188</td>\n    </tr>\n    <tr>\n      <th>U2OS-2</th>\n      <td>5.098453</td>\n      <td>6.543496</td>\n      <td>2.117695</td>\n      <td>4.115200</td>\n      <td>0.014355</td>\n      <td>0.432959</td>\n      <td>5.684258</td>\n      <td>4.847997</td>\n      <td>5.108524</td>\n      <td>2.189034</td>\n      <td>...</td>\n      <td>0.176323</td>\n      <td>5.028569</td>\n      <td>2.967169</td>\n      <td>4.995937</td>\n      <td>0.111031</td>\n      <td>0.042644</td>\n      <td>2.010780</td>\n      <td>1.925999</td>\n      <td>4.635754</td>\n      <td>0.526517</td>\n    </tr>\n    <tr>\n      <th>LU99-2</th>\n      <td>3.665620</td>\n      <td>6.716717</td>\n      <td>2.100978</td>\n      <td>4.176323</td>\n      <td>0.000000</td>\n      <td>1.263034</td>\n      <td>6.124948</td>\n      <td>4.395063</td>\n      <td>5.070389</td>\n      <td>2.669027</td>\n      <td>...</td>\n      <td>1.321928</td>\n      <td>6.613679</td>\n      <td>1.438293</td>\n      <td>4.349082</td>\n      <td>0.000000</td>\n      <td>0.111031</td>\n      <td>1.111031</td>\n      <td>1.632268</td>\n      <td>5.197315</td>\n      <td>0.625161</td>\n    </tr>\n  </tbody>\n</table>\n<p>5 rows × 15140 columns</p>\n</div>"
     },
     "metadata": {},
     "output_type": "display_data"
    },
    {
     "name": "stdout",
     "output_type": "stream",
     "text": [
      "Data shape:  (525, 15139) Target Variable shape:  (525,)\n"
     ]
    }
   ],
   "source": [
    "# df = df.drop([\"cell_line\"], axis=1)\n",
    "display(df.head())\n",
    "data, Y = df.drop([\"SF\"], axis=1), df[\"SF\"].values\n",
    "# Lets check out the shape of our data\n",
    "print(\"Data shape: \", data.shape, \"Target Variable shape: \", Y.shape)"
   ],
   "metadata": {
    "collapsed": false,
    "pycharm": {
     "name": "#%%\n"
    }
   }
  },
  {
   "cell_type": "code",
   "execution_count": 96,
   "outputs": [],
   "source": [
    "# # Use Train-test split for understanding the performance of PyImpetus\n",
    "# x_train, x_test, y_train, y_test = train_test_split(data, Y, test_size=0.2, random_state=27, shuffle=True)\n",
    "# # We want to time our algorithm\n",
    "# start = time.time()"
   ],
   "metadata": {
    "collapsed": false,
    "pycharm": {
     "name": "#%%\n"
    }
   }
  },
  {
   "cell_type": "code",
   "execution_count": 97,
   "outputs": [],
   "source": [
    "# # Convert the data into numpy arrays\n",
    "# x_train, x_test = x_train.values, x_test.values\n",
    "#\n",
    "# model = DecisionTreeRegressor(random_state=27)\n",
    "# model.fit(x_train, y_train)\n",
    "# preds = model.predict(x_test)\n",
    "# score = mean_squared_error(y_test, preds)\n",
    "# print(\"MSE: \", score)\n",
    "# end = time.time()\n",
    "# print(\"Time Required (in seconds): \", end-start)"
   ],
   "metadata": {
    "collapsed": false,
    "pycharm": {
     "name": "#%%\n"
    }
   }
  },
  {
   "cell_type": "code",
   "execution_count": 99,
   "outputs": [
    {
     "name": "stderr",
     "output_type": "stream",
     "text": [
      "Progress bar: 100%|██████████| 3/3 [05:27<00:00, 109.10s/it]"
     ]
    },
    {
     "name": "stdout",
     "output_type": "stream",
     "text": [
      "Number of features selected:  13\n",
      "['1462', '200916', '254158', '54442', '54851', '1876', '55175', '2826', '64714', '1995', '132946', '10921', '9294']\n",
      "Score:  0.06258900337859535\n",
      "Time Required (in seconds):  327.3015339374542\n"
     ]
    },
    {
     "name": "stderr",
     "output_type": "stream",
     "text": [
      "\n"
     ]
    },
    {
     "ename": "AttributeError",
     "evalue": "'DecisionTreeRegressor' object has no attribute 'feature_importance'",
     "output_type": "error",
     "traceback": [
      "\u001B[1;31m---------------------------------------------------------------------------\u001B[0m",
      "\u001B[1;31mAttributeError\u001B[0m                            Traceback (most recent call last)",
      "Input \u001B[1;32mIn [99]\u001B[0m, in \u001B[0;36m<cell line: 27>\u001B[1;34m()\u001B[0m\n\u001B[0;32m     25\u001B[0m end \u001B[38;5;241m=\u001B[39m time\u001B[38;5;241m.\u001B[39mtime()\n\u001B[0;32m     26\u001B[0m \u001B[38;5;28mprint\u001B[39m(\u001B[38;5;124m\"\u001B[39m\u001B[38;5;124mTime Required (in seconds): \u001B[39m\u001B[38;5;124m\"\u001B[39m, end\u001B[38;5;241m-\u001B[39mstart)\n\u001B[1;32m---> 27\u001B[0m \u001B[43mmodel\u001B[49m\u001B[38;5;241;43m.\u001B[39;49m\u001B[43mfeature_importance\u001B[49m()\n",
      "\u001B[1;31mAttributeError\u001B[0m: 'DecisionTreeRegressor' object has no attribute 'feature_importance'"
     ]
    }
   ],
   "source": [
    "# Use Train-test split for understanding the performance of PyImpetus\n",
    "x_train, x_test, y_train, y_test = train_test_split(data, Y, test_size=0.1, random_state=27, shuffle=True)\n",
    "# We want to time our algorithm\n",
    "start = time.time()\n",
    "\n",
    "# Create a PyImpetus classification object and initialize with required parameters\n",
    "model = PPIMBR(model=sklearn.linear_model.BayesianRidge(), cv=3, p_val_thresh=0.001, num_simul=20, simul_size=0.2, sig_test_type=\"non-parametric\", random_state=27, verbose=2)\n",
    "# Fit this above object on the train part and transform the train dataset into selected feature subset\n",
    "# NOTE: x_train has to be a dataframe and y_train has to be a numpy array\n",
    "x_train = model.fit_transform(x_train, y_train)\n",
    "# Transform the test set as well\n",
    "# NOTE: x_test has to be a dataframe\n",
    "x_test = model.transform(x_test)\n",
    "# Check out the number of features selected\n",
    "print(\"Number of features selected: \", len(model.MB))\n",
    "print(model.MB)\n",
    "# Convert the data into numpy arrays\n",
    "x_train, x_test = x_train.values, x_test.values\n",
    "\n",
    "model = DecisionTreeRegressor(random_state=27)\n",
    "model.fit(x_train, y_train)\n",
    "preds = model.predict(x_test)\n",
    "score = mean_squared_error(y_test, preds)\n",
    "print(\"Score: \", score)\n",
    "end = time.time()\n",
    "print(\"Time Required (in seconds): \", end-start)\n",
    "model.feature_importance()"
   ],
   "metadata": {
    "collapsed": false,
    "pycharm": {
     "name": "#%%\n"
    }
   }
  }
 ],
 "metadata": {
  "kernelspec": {
   "display_name": "Python 3",
   "language": "python",
   "name": "python3"
  },
  "language_info": {
   "codemirror_mode": {
    "name": "ipython",
    "version": 2
   },
   "file_extension": ".py",
   "mimetype": "text/x-python",
   "name": "python",
   "nbconvert_exporter": "python",
   "pygments_lexer": "ipython2",
   "version": "2.7.6"
  }
 },
 "nbformat": 4,
 "nbformat_minor": 0
}